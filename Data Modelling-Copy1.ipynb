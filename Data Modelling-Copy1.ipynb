{
 "cells": [
  {
   "cell_type": "code",
   "execution_count": null,
   "id": "a97573f0",
   "metadata": {},
   "outputs": [],
   "source": [
    "import pandas as pd\n",
    "import numpy as np\n",
    "import matplotlib.pyplot as plt\n",
    "import seaborn as sns\n",
    "from datetime import datetime\n",
    "#from fastai.tabular.core import df_shrink\n",
    "\n",
    "from sklearn.ensemble import RandomForestClassifier, GradientBoostingClassifier, ExtraTreesClassifier, HistGradientBoostingClassifier, AdaBoostClassifier\n",
    "from sklearn.neighbors import KNeighborsClassifier\n",
    "from sklearn.linear_model import LogisticRegression\n",
    "from sklearn.svm import SVC\n",
    "from sklearn.tree import DecisionTreeClassifier\n",
    "from sklearn.naive_bayes import GaussianNB\n",
    "\n",
    "#from lightgbm import LGBMClassifier\n",
    "#from catboost import CatBoostClassifier\n",
    "#from xgboost import XGBClassifier\n",
    "\n",
    "from sklearn.model_selection import train_test_split, GridSearchCV, cross_val_score\n",
    "from sklearn.metrics import confusion_matrix, classification_report, roc_curve, roc_auc_score\n"
   ]
  },
  {
   "cell_type": "code",
   "execution_count": null,
   "id": "9264c23a",
   "metadata": {},
   "outputs": [],
   "source": [
    "df = pd.read_csv(r'C:\\Users\\soura\\Downloads\\BDAT-1011 Data Analytics Project\\ibm_data.csv')\n",
    "df.head()"
   ]
  },
  {
   "cell_type": "code",
   "execution_count": null,
   "id": "7ac9cd37",
   "metadata": {},
   "outputs": [],
   "source": [
    "#df['Target'] = df.apply(lambda _: '', axis=1)\n",
    "#df.head()"
   ]
  },
  {
   "cell_type": "code",
   "execution_count": null,
   "id": "5c2aa92d",
   "metadata": {},
   "outputs": [],
   "source": [
    "\n"
   ]
  },
  {
   "cell_type": "code",
   "execution_count": null,
   "id": "17cbbf85",
   "metadata": {},
   "outputs": [],
   "source": [
    "y = df.target\n",
    "X = df.drop('target', axis=1)"
   ]
  },
  {
   "cell_type": "code",
   "execution_count": null,
   "id": "138824dc",
   "metadata": {},
   "outputs": [],
   "source": [
    "X_train, X_test, y_train, y_test = train_test_split(X, y,test_size=0.2)\n",
    "print(\"\\nX_train:\\n\")\n",
    "print(X_train.head())\n",
    "print(X_train.shape)\n",
    "\n",
    "print(\"\\nX_test:\\n\")\n",
    "print(X_test.head())\n",
    "print(X_test.shape)\n"
   ]
  },
  {
   "cell_type": "code",
   "execution_count": null,
   "id": "1e41b672",
   "metadata": {},
   "outputs": [],
   "source": [
    "df_train=X_train\n",
    "df_test=X_test \n",
    "\n",
    "df_train = df_train.drop_duplicates()\n",
    "df_test = df_test.drop_duplicates()\n",
    "\n",
    "\n"
   ]
  },
  {
   "cell_type": "code",
   "execution_count": null,
   "id": "6dabad75",
   "metadata": {},
   "outputs": [],
   "source": [
    "df_total = df_train.append(df_test)\n"
   ]
  },
  {
   "cell_type": "code",
   "execution_count": null,
   "id": "dee91b45",
   "metadata": {},
   "outputs": [],
   "source": [
    "df_train.shape\n",
    "\n"
   ]
  },
  {
   "cell_type": "code",
   "execution_count": null,
   "id": "b88cdec5",
   "metadata": {},
   "outputs": [],
   "source": [
    "df_test.shape"
   ]
  },
  {
   "cell_type": "code",
   "execution_count": null,
   "id": "3f8922ab",
   "metadata": {},
   "outputs": [],
   "source": [
    "df_total.info()\n"
   ]
  },
  {
   "cell_type": "code",
   "execution_count": null,
   "id": "63d867ed",
   "metadata": {},
   "outputs": [],
   "source": [
    "print('=' * 100 + '||')\n",
    "for col in df_total.columns:\n",
    "    colList = list(df_total[col].value_counts().keys())\n",
    "    N = 100\n",
    "    colList_N = [x for index, x in enumerate(colList) if index < N]\n",
    "    print(f\"Column name         : {col}\")\n",
    "    print(f\"Data Type           : {df_total[col].dtypes}\")\n",
    "    print(f\"Count               : {len(colList)}\")\n",
    "    print(f\"20 Unique Values    : {colList_N}\")\n",
    "    print(f\"Percentage Frequency:\")\n",
    "    percent = np.round(df_total[col].value_counts() * 100 / len(df_total), 2)\n",
    "    print(percent)\n",
    "    print('=' * 100 + '||')"
   ]
  },
  {
   "cell_type": "code",
   "execution_count": null,
   "id": "faddc4ad",
   "metadata": {},
   "outputs": [],
   "source": [
    "print(\"Total of No. Of unique IP's is =\",df_total.ip_addr.nunique())\n"
   ]
  },
  {
   "cell_type": "code",
   "execution_count": null,
   "id": "fb8251d8",
   "metadata": {},
   "outputs": [],
   "source": [
    "# IP Addres's that has total views greater than 24 in a day\n",
    "ip_views = pd.DataFrame(df_total.groupby('ip_addr').VIEWS.sum().sort_values())\n",
    "unique_ip_address = list(ip_views[ip_views.VIEWS > 24].index)\n",
    "\n",
    "# Limiting the Dataset to those rows that contain one of the ip's present in unique_ip_address \n",
    "new_data = df_total[df_total.ip_addr.isin(unique_ip_address)]\n",
    "\n",
    "# Taking intersection of ip's\n",
    "#unique_ip_address = list(new_data_details.ip_addr.unique())\n",
    "\n",
    "# These are the filterd IP's on which we have to find Infomation.\n",
    "print(\"No. Of unique ip's {}\".format(len(unique_ip_address)))\n",
    "\n",
    "# Examples of unique ip address\n",
    "unique_ip_address[:10]\n",
    "#df_total = df_train.append(df_test)\n"
   ]
  },
  {
   "cell_type": "code",
   "execution_count": null,
   "id": "bf06b7d3",
   "metadata": {},
   "outputs": [],
   "source": [
    "#df_total['page_vw_ts'] = pd.to_datetime(df_total['page_vw_ts'])\n",
    "#df_total['hour'] = pd.to_datetime(df_total['page_vw_ts']).dt.hour\n",
    "#df_total['minute'] = pd.to_datetime(df_total['page_vw_ts']).dt.minute"
   ]
  },
  {
   "cell_type": "code",
   "execution_count": null,
   "id": "d8be0450",
   "metadata": {},
   "outputs": [],
   "source": [
    "#from sklearn.impute import SimpleImputer\n",
    "#mode_imputer = SimpleImputer(missing_values=np.nan, strategy='mean')\n",
    "#df_total[['hour','minute']] = mode_imputer.fit_transform(df_total[['hour', 'minute']])\n"
   ]
  },
  {
   "cell_type": "code",
   "execution_count": null,
   "id": "91dd2063",
   "metadata": {},
   "outputs": [],
   "source": [
    "#df_total.head()\n"
   ]
  },
  {
   "cell_type": "code",
   "execution_count": null,
   "id": "74337d2f",
   "metadata": {},
   "outputs": [],
   "source": [
    "df_total['user_agent'] = df_total['user_agent'].astype(str)"
   ]
  },
  {
   "cell_type": "code",
   "execution_count": null,
   "id": "555acaf8",
   "metadata": {},
   "outputs": [],
   "source": [
    "from device_detector import SoftwareDetector\n",
    "\n",
    "\n",
    "def parse_family(X):\n",
    "    return SoftwareDetector(X).parse().client_name()\n",
    "\n",
    "\n",
    "def parse_os(X):\n",
    "    return SoftwareDetector(X).parse().os_name()\n",
    "\n",
    "\n",
    "df_total[\"user_browser\"] = df_total.user_agent.apply(parse_family)\n",
    "df_total[\"user_os\"] = df_total.user_agent.apply(parse_os)\n",
    "\n",
    "df_total['os_browser'] = df_total[\"user_os\"] + '_' + df_total[\"user_browser\"]"
   ]
  },
  {
   "cell_type": "code",
   "execution_count": null,
   "id": "d577c422",
   "metadata": {},
   "outputs": [],
   "source": [
    "# Adding a Bounce_rate Column \n",
    "df_total[\"bounce_rate_%\"] = ((df_total.VISIT - df_total.ENGD_VISIT)/df_total.VISIT)*100\n"
   ]
  },
  {
   "cell_type": "code",
   "execution_count": null,
   "id": "4274c8a1",
   "metadata": {},
   "outputs": [],
   "source": [
    "# Droping unnecessary columns\n",
    "df_total = df_total.drop(labels=['wk', 'mth', 'yr', 'page_vw_ts'], axis=1)"
   ]
  },
  {
   "cell_type": "code",
   "execution_count": null,
   "id": "8b3143f1",
   "metadata": {},
   "outputs": [],
   "source": [
    "df_total.columns"
   ]
  },
  {
   "cell_type": "code",
   "execution_count": null,
   "id": "24ab14fa",
   "metadata": {},
   "outputs": [],
   "source": [
    "df_total.info()\n",
    "df_total.to_csv('PowerBIData.csv')"
   ]
  },
  {
   "cell_type": "code",
   "execution_count": null,
   "id": "9afb74a9",
   "metadata": {},
   "outputs": [],
   "source": [
    "cat_col = [\n",
    "    'ctry_name', 'intgrtd_mngmt_name', 'intgrtd_operating_team_name', 'city',\n",
    "    'st', 'sec_lvl_domn', 'device_type', 'operating_sys', 'user_agent',\n",
    "    'page_url', 'user_browser', 'user_os', 'os_browser'\n",
    "]\n",
    "num_col = [\n",
    "    'VISIT', 'ENGD_VISIT', 'VIEWS',\n",
    "    'bounce_rate_%']\n",
    "\n",
    "tar_col = ['target']\n",
    "\n",
    "ID = ['ip_addr']\n"
   ]
  },
  {
   "cell_type": "code",
   "execution_count": null,
   "id": "10171aa4",
   "metadata": {},
   "outputs": [],
   "source": []
  },
  {
   "cell_type": "code",
   "execution_count": null,
   "id": "b3d0bb53",
   "metadata": {},
   "outputs": [],
   "source": [
    "from category_encoders.ordinal import OrdinalEncoder\n",
    "\n",
    "#Set up the OrdinalEncoder\n",
    "OE = OrdinalEncoder()\n",
    "#Fit and transform the encoder\n",
    "df_total[cat_col] = OE.fit_transform(df_total[cat_col])\n",
    "#df_total[ID] = OE.fit_transform(df_total[ID])"
   ]
  },
  {
   "cell_type": "code",
   "execution_count": null,
   "id": "defe9155",
   "metadata": {},
   "outputs": [],
   "source": [
    "df_train1 = df_total[~df_total.target.isnull()]\n",
    "df_test = df_total[df_total.target.isnull()].drop(['target'], axis=1)"
   ]
  },
  {
   "cell_type": "code",
   "execution_count": null,
   "id": "e4be8a8a",
   "metadata": {},
   "outputs": [],
   "source": [
    "df_train1.fillna('N/A')\n",
    "df_test.fillna('N/A')"
   ]
  },
  {
   "cell_type": "code",
   "execution_count": null,
   "id": "2220f240",
   "metadata": {},
   "outputs": [],
   "source": [
    "dependent_variable = tar_col\n",
    "independent_variables = num_col + cat_col\n",
    "\n",
    "# Splitting the data into train and test\n",
    "X_train1 = df_train1[independent_variables]\n",
    "y_train1 = df_train1[dependent_variable]\n",
    "\n",
    "X_test1  = df_test[ID + independent_variables]\n"
   ]
  },
  {
   "cell_type": "code",
   "execution_count": null,
   "id": "4e769957",
   "metadata": {},
   "outputs": [],
   "source": []
  },
  {
   "cell_type": "markdown",
   "id": "3b03a20c",
   "metadata": {},
   "source": [
    "# Random Forest"
   ]
  },
  {
   "cell_type": "code",
   "execution_count": null,
   "id": "d7456179",
   "metadata": {},
   "outputs": [],
   "source": [
    "#from sklearn.ensemble import RandomForestClassifier\n",
    "#model = RandomForestClassifier(n_estimators=100)\n",
    "#model.fit(X_train1, y_train1)"
   ]
  },
  {
   "cell_type": "code",
   "execution_count": null,
   "id": "dda7a316",
   "metadata": {},
   "outputs": [],
   "source": [
    "#model.score(X_test1,y_train1)"
   ]
  },
  {
   "cell_type": "code",
   "execution_count": null,
   "id": "c93fd4f7",
   "metadata": {},
   "outputs": [],
   "source": [
    "X_TEST = X_test1\n",
    "X_TEST = X_TEST.drop_duplicates()\n",
    "\n",
    "#X_TEST['page_vw_ts'] = pd.to_datetime(X_TEST['page_vw_ts'])\n",
    "#X_TEST['hour']       = pd.to_datetime(X_TEST['page_vw_ts']).dt.hour\n",
    "#X_TEST['minute']     = pd.to_datetime(X_TEST['page_vw_ts']).dt.minute\n",
    "#X_TEST[['hour','minute']] = mode_imputer.transform(X_TEST[['hour', 'minute']])\n",
    "X_TEST['VIEWS/VISIT'] = X_TEST['VIEWS']/X_TEST['VISIT']\n",
    "X_TEST['user_agent'] = X_TEST['user_agent'].astype(str)\n",
    "#X_TEST[\"user_browser\"] = X_TEST.user_agent.apply(parse_family)\n",
    "#X_TEST[\"user_os\"] = X_TEST.user_agent.apply(parse_os)\n",
    "#X_TEST['os_browser'] = X_TEST[\"user_os\"] + '_' + X_TEST[\"user_browser\"]\n",
    "\n",
    "# Adding a Bounce_rate Column \n",
    "X_TEST[\"bounce_rate_%\"] = ((X_TEST.VISIT - X_TEST.ENGD_VISIT)/X_TEST.VISIT)*100\n",
    "\n",
    "# Droping unnecessary columns\n",
    "#X_TEST = X_TEST.drop(labels=['wk', 'mth', 'yr', 'page_vw_ts'], axis=1)\n",
    "\n",
    "# Encode the data\n",
    "X_TEST[cat_col] = OE.transform(X_TEST[cat_col])\n",
    "\n",
    "X_TEST = X_TEST[ID + independent_variables]\n",
    "\n",
    "X_TEST.head()\n",
    "X_TEST.shape\n"
   ]
  },
  {
   "cell_type": "code",
   "execution_count": null,
   "id": "9c76047d",
   "metadata": {},
   "outputs": [],
   "source": [
    "def Submission_df(_test, _model, _name):\n",
    "    Submission_df = pd.DataFrame()\n",
    "    Submission_df['ip_addr'] = _test[['ip_addr']]\n",
    "    Submission_df['target'] = _model.predict(_test.drop(['ip_addr'], axis=1))\n",
    "    Submission_df.to_csv(_name + '.csv', index=False, encoding='utf-8')\n",
    "\n",
    "\n",
    "from sklearn.ensemble import StackingClassifier\n",
    "\n",
    "estimators = [('ET', ExtraTreesClassifier(random_state=2)),\n",
    "              ('DT', DecisionTreeClassifier(random_state=100))]\n",
    "\n",
    "\n",
    "regressor =  StackingClassifier(\n",
    "    estimators=estimators,\n",
    "    final_estimator=ExtraTreesClassifier(random_state=2))\n",
    "\n",
    "regressor.fit(X_train1, y_train1)\n",
    "Submission_df(X_TEST, regressor, \"Final\")\n",
    "\n",
    "#Submission_df.score()\n"
   ]
  },
  {
   "cell_type": "code",
   "execution_count": null,
   "id": "174946e9",
   "metadata": {},
   "outputs": [],
   "source": [
    "regressor.score(X_TEST,tar_col)"
   ]
  },
  {
   "cell_type": "code",
   "execution_count": null,
   "id": "8b06751d",
   "metadata": {},
   "outputs": [],
   "source": [
    "def Submission_df1(_test, _model, _name):\n",
    "    Submission_df1 = pd.DataFrame()\n",
    "    Submission_df1['ip_addr'] = _test[['ip_addr']]\n",
    "    Submission_df1['target'] = _model.predict(_test.drop(['ip_addr'], axis=1))\n",
    "    Submission_df1.to_csv(_name + '.csv', index=False, encoding='utf-8')\n",
    "\n",
    "\n",
    "#from sklearn.ensemble import StackingClassifier\n",
    "\n",
    "#estimators = [('ET', ExtraTreesClassifier(random_state=2)),\n",
    "         #     ('DT', DecisionTreeClassifier(random_state=100))]\n",
    "\n",
    "\n",
    "\n",
    "\n",
    "regressor = LogisticRegression()\n",
    "\n",
    "regressor.fit(X_train1, y_train1)\n",
    "\n",
    "Submission_df1(X_TEST,regressor,\"Final_Logisitc\")\n"
   ]
  },
  {
   "cell_type": "code",
   "execution_count": null,
   "id": "2b5f5b7f",
   "metadata": {},
   "outputs": [],
   "source": []
  },
  {
   "cell_type": "code",
   "execution_count": null,
   "id": "5d052137",
   "metadata": {},
   "outputs": [],
   "source": []
  },
  {
   "cell_type": "code",
   "execution_count": null,
   "id": "587dd536",
   "metadata": {},
   "outputs": [],
   "source": []
  },
  {
   "cell_type": "code",
   "execution_count": null,
   "id": "b58076d0",
   "metadata": {},
   "outputs": [],
   "source": []
  }
 ],
 "metadata": {
  "kernelspec": {
   "display_name": "Python 3 (ipykernel)",
   "language": "python",
   "name": "python3"
  },
  "language_info": {
   "codemirror_mode": {
    "name": "ipython",
    "version": 3
   },
   "file_extension": ".py",
   "mimetype": "text/x-python",
   "name": "python",
   "nbconvert_exporter": "python",
   "pygments_lexer": "ipython3",
   "version": "3.7.13"
  }
 },
 "nbformat": 4,
 "nbformat_minor": 5
}
